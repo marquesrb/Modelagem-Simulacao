{
 "cells": [
  {
   "cell_type": "code",
   "execution_count": 47,
   "metadata": {
    "id": "28d49cb5"
   },
   "outputs": [],
   "source": [
    "import matplotlib.pyplot as plt\n",
    "\n",
    "import warnings\n",
    "warnings.filterwarnings('ignore')\n",
    "\n",
    "from datetime import datetime\n",
    "import json\n",
    "\n",
    "import numpy as np\n",
    "\n",
    "from pyproj import Proj, transform"
   ]
  },
  {
   "cell_type": "markdown",
   "metadata": {
    "id": "dbf7308b"
   },
   "source": [
    "# O formato JSON\n",
    "Referência: [json.org](https://www.json.org/json-en.html)\n",
    "\n",
    "JSON é uma notação usada para criar mensagens de texto estruturadas. A ideia/motivação principal é que sejam simples de serem lidas por seres humanos e ao mesmo tempo fáceis de serem geradas/lidas por um programa (parser).\n",
    "\n",
    "Um mensagem no formato JSON conta com duas estruturas básicas: (1) uma coleção de pares chave/valor delimitados por chaves '{}' (similar à dicionários em python); e (2) uma sequência de elementos, que são delimitados por colchetes '[]' (similar à listas em python).\n",
    "\n",
    "Uma coleção de pares chave/valor é chamada de objeto, a chave em cada par chave/valor deve ser uma string e um objeto não pode ter duas chaves iguais.\n",
    "\n",
    "Uma sequência não possui chaves e seus elementos podem ser mistos (por exemplo: outras sequências, objetos e elementos).\n",
    "\n",
    "Um elemento pode ser ou uma string delimitada por aspas duplas \"exemplo de string\" ou um número.\n",
    "\n",
    "Todos os exemplos a seguir são mensagens válidas de acordo com o formato JSON:\n",
    "\n",
    "1. \"\"\n",
    "2. \"JSON válido\"\n",
    "3. []\n",
    "4. [\"A sequancia anterior está vazia\", \"Já esta aqui tem duas strings e um número\", 7]\n",
    "5. {\"chave\": \"valor da chave para este objeto\"}\n",
    "6. {}\n",
    "7. \"A linha anterior tem um objeto vazio\"\n",
    "\n",
    "Apesar da notação admitir mensagens com apenas uma string, números, ou sequência, muitas vezes aplicações que dão suporte ao formato JSON não admitem mensagens que não contenham um objeto principal, isso é, todos os elementos da mensagem são encapsulados num objeto raiz, por exemplo:\n",
    "\n",
    "{\n",
    "  \"c1\": {\"chave nutela\": \"objeto interno\", \"id\" : 7},\n",
    "  \"outra chave\": 2,\n",
    "  \"alguma sequencia importante\": [2,3,5,7,11]\n",
    "}\n",
    "\n",
    "Note que além de termos um objeto principal na mensagem anterior (delimitado pelas chaves na primeira e ultima linha) temos outro objeto no primeiro par chave/valor (com a chave \"c1\"). Cada par chave/valor num objeto deve ser separado por vírgulas de outros pares no mesmo objeto.\n",
    "\n",
    "Existem diversos [editores online de JSON](https://jsoneditoronline.org/#left=local.nijuma&right=local.pisura) que podemos usar para explorar mensagens JSON rapidamente, ou para entender como o formato funciona."
   ]
  },
  {
   "cell_type": "markdown",
   "metadata": {
    "id": "762d7119"
   },
   "source": [
    "# Carregando o arquivo de dados do KartaView\n",
    "\n",
    "Vamos agora analisar os dados coletados através da plataforma KartaView, como explicado em aula. \n",
    "\n",
    "Esses dados estão formatados usando-se o formato JSON de JavaScript Object Notation."
   ]
  },
  {
   "cell_type": "code",
   "execution_count": 48,
   "metadata": {
    "id": "bc16e082"
   },
   "outputs": [],
   "source": [
    "arquivo_json = \"sample1.json\"\n",
    "\n",
    "with open(arquivo_json, \"r\") as f:\n",
    "    pontos = f.read()\n",
    "    pontos = json.loads(pontos)"
   ]
  },
  {
   "cell_type": "code",
   "execution_count": 49,
   "metadata": {
    "id": "8f745d64",
    "outputId": "978de5e8-faed-493f-d3b0-eeb86e7c0d10"
   },
   "outputs": [
    {
     "name": "stdout",
     "output_type": "stream",
     "text": [
      "Chaves na raiz - \n",
      "dict_keys(['status', 'osv'])\n",
      "\n",
      "Chaves do objeto na chave 'status' - \n",
      "dict_keys(['apiCode', 'apiMessage', 'httpCode', 'httpMessage'])\n",
      "\n",
      "Chaves do objeto na chave 'osv' - \n",
      "dict_keys(['date_added', 'platform', 'user', 'user_id', 'meta_data_filename', 'address', 'country_code', 'reviewed', 'distance', 'changed', 'obd_info', 'count_active_photos', 'recognitions', 'client_total', 'is_rotating', 'cameraParameters', 'deviceName', 'owner', 'upload_history', 'photos'])\n"
     ]
    }
   ],
   "source": [
    "print(f\"Chaves na raiz - \\n{pontos.keys()}\\n\")\n",
    "print(f\"Chaves do objeto na chave 'status' - \\n{pontos['status'].keys()}\\n\")\n",
    "print(f\"Chaves do objeto na chave 'osv' - \\n{pontos['osv'].keys()}\")"
   ]
  },
  {
   "cell_type": "markdown",
   "metadata": {
    "id": "e3a84f5b"
   },
   "source": [
    "Seguindo a sequencia de chaves 'osv' -> 'photos' chegamos à uma sequência de objetos.\n",
    "\n",
    "Cada um destes objetos representa os metadados de uma imagem tomada em um ponto do trajeto escolhido no KartaView."
   ]
  },
  {
   "cell_type": "code",
   "execution_count": 50,
   "metadata": {
    "id": "242bd8c7",
    "outputId": "ff6a169e-8ecb-46dd-9f6f-11f588e24693"
   },
   "outputs": [
    {
     "data": {
      "text/plain": [
       "{'id': '206416139',\n",
       " 'sequence_id': '1131993',\n",
       " 'sequence_index': '0',\n",
       " 'lat': '32.188423',\n",
       " 'lng': '-81.195239',\n",
       " 'fileName': '1131993_119db_1.jpg',\n",
       " 'name': 'storage7/files/photo/2018/3/4/proc/1131993_119db_1.jpg',\n",
       " 'lth_name': 'storage7/files/photo/2018/3/4/lth/1131993_119db_1.jpg',\n",
       " 'th_name': 'storage7/files/photo/2018/3/4/th/1131993_119db_1.jpg',\n",
       " 'path': '2018/3/4',\n",
       " 'date_added': '2018-03-04  (00:03)',\n",
       " 'timestamp': '1520121838',\n",
       " 'way_id': '622702403',\n",
       " 'match_lat': '32.188430786132810',\n",
       " 'match_lng': '-81.195213317871100',\n",
       " 'heading': '72.76266',\n",
       " 'headers': '72.76266',\n",
       " 'gps_accuracy': '5.0000',\n",
       " 'storage': 'storage7',\n",
       " 'shot_date': '2018-03-03 20:29:36',\n",
       " 'projection': 'PLANE',\n",
       " 'field_of_view': None,\n",
       " 'is_unwrapped': '0',\n",
       " 'unwrap_version': '0',\n",
       " 'width': '2592',\n",
       " 'height': '1944',\n",
       " 'cameraParameters': None,\n",
       " 'hasDepth': False}"
      ]
     },
     "execution_count": 50,
     "metadata": {},
     "output_type": "execute_result"
    }
   ],
   "source": [
    "# Exemplo de um objeto na chave 'photos':\n",
    "pontos['osv']['photos'][0]\n"
   ]
  },
  {
   "cell_type": "markdown",
   "metadata": {
    "id": "339d6ccc"
   },
   "source": [
    "Podemos observar que muitos dos campos parecem ter utilidade apenas para a aplicação do KartaView.\n",
    "\n",
    "Para simplificar a análise vamos criar um novo arquivo JSON (chamado extractedque contenha um único objeto raiz com um único par chave/valor. Este par será o campo 'photos' e a sequência para a qual ele é chave:\n",
    "\n",
    "`{\n",
    "\"photos\" :\n",
    "    [\n",
    "    {\n",
    "        'id': '206416139',\n",
    "         'sequence_id': '1131993',\n",
    "         'sequence_index': '0',\n",
    "         'lat': '32.188423',\n",
    "         'lng': '-81.195239',\n",
    "         'fileName': '1131993_119db_1.jpg',\n",
    "         'name': 'storage7/files/photo/2018/3/4/proc/1131993_119db_1.jpg',\n",
    "         'lth_name': 'storage7/files/photo/2018/3/4/lth/1131993_119db_1.jpg',\n",
    "         'th_name': 'storage7/files/photo/2018/3/4/th/1131993_119db_1.jpg',\n",
    "         'path': '2018/3/4',\n",
    "         ...\n",
    "     },\n",
    "     ...\n",
    "    ]\n",
    "}`\n"
   ]
  },
  {
   "cell_type": "code",
   "execution_count": 51,
   "metadata": {
    "id": "b9475170"
   },
   "outputs": [],
   "source": [
    "from photos_extract import make_extract_photos_JSON, get_photo_array_positions, clean_extracted\n",
    "\n",
    "jsonfile = 'sample1.json'\n",
    "\n",
    "extracted_filename = \"extracted_\" + jsonfile\n",
    "cleaned_filename = \"cleaned_\" + jsonfile\n",
    "\n",
    "with open(jsonfile, \"r\") as jf:\n",
    "        # Aqui o array 'photos' é extraído e colocado \n",
    "        # em outro arquivo (com o prefixo extracted_),\n",
    "        # para facilitar o processamento do array.\n",
    "        #\n",
    "        # Em seguida usamos a função clean_extracted para\n",
    "        # criar um terceiro arquivo (com prefixo _cleaned)\n",
    "        # que contenha somente os campos de interesse para\n",
    "        # a análise.\n",
    "        txt = jf.read()\n",
    "        extracted_str = make_extract_photos_JSON(extracted_filename, txt)\n",
    "\n",
    "        with open(cleaned_filename, \"w\") as cjf:\n",
    "            cjf.write(clean_extracted(extracted_str))\n"
   ]
  },
  {
   "cell_type": "markdown",
   "metadata": {
    "id": "61e2faae"
   },
   "source": [
    "### Exercício\n",
    "\n",
    "Usando o arquivo 'extracted_sample1.json' gerado na seção anterior crie um novo arquivo JSON chamado 'cleaned_sample1.json' em que cada objeto da sequência 'photos' contém somente os campos:\n",
    "\n",
    "- 'lat'\n",
    "- 'lng'\n",
    "- 'heading'\n",
    "- 'shot_date'\n",
    "\n",
    "Ou seja, o novo arquivo gerado a partir do 'extracted_sample1.json' deverá seguir o modelo:\n",
    "\n",
    "`{\n",
    "\"photos\" :\n",
    "    [\n",
    "    {\n",
    "        'lat': '32.188423',\n",
    "        'lng' : '-81.195239',\n",
    "        'heading' : '72.76266',\n",
    "        'shot_date': '2018-03-03 20:29:36'\n",
    "     },\n",
    "     ...\n",
    "    ]\n",
    "}`"
   ]
  },
  {
   "cell_type": "markdown",
   "metadata": {
    "id": "67dc8f76"
   },
   "source": [
    "# Definindo uma faixa de pontos\n",
    "\n",
    "O trajeto pode conter muitos pontos (e.g. 7800+ no JSON anterior). Para facilitar a nossa vida e a análise, vamos selecionar um conjunto menor de pontos para este exercício. "
   ]
  },
  {
   "cell_type": "code",
   "execution_count": 52,
   "metadata": {
    "id": "e3c071bc"
   },
   "outputs": [],
   "source": [
    "# Vamos carregar os pontos (do JSON filtrado) na variável pontos.\n",
    "arquivo_pontos = \"cleaned_sample1.json\"\n",
    "\n",
    "with open(arquivo_pontos, \"r\") as f:\n",
    "    pontos = f.read()\n",
    "    pontos = json.loads(pontos)\n",
    "    pontos = pontos['photos']\n",
    "\n"
   ]
  },
  {
   "cell_type": "code",
   "execution_count": 53,
   "metadata": {
    "id": "c13c5bf1"
   },
   "outputs": [],
   "source": [
    "# Aqui escolhemos quais pontos iremos usar no intervalo entre [0-7847]\n",
    "faixa_de_pontos = range(1000,1100)"
   ]
  },
  {
   "cell_type": "code",
   "execution_count": 54,
   "metadata": {
    "id": "d780566f",
    "outputId": "2a29e720-414b-4480-9faa-e9a6fbf12cf8"
   },
   "outputs": [
    {
     "data": {
      "text/plain": [
       "{'lat': '32.450081',\n",
       " 'lng': '-80.991726',\n",
       " 'heading': '57.014393',\n",
       " 'shot_date': '2018-03-03 20:53:26'}"
      ]
     },
     "execution_count": 54,
     "metadata": {},
     "output_type": "execute_result"
    }
   ],
   "source": [
    "# Um ponto da rota escolhida é um objeto com as seguintes propriedades\n",
    "pontos[faixa_de_pontos[0]]"
   ]
  },
  {
   "cell_type": "markdown",
   "metadata": {
    "id": "9b1b9b84"
   },
   "source": [
    "# Medindo distâncias"
   ]
  },
  {
   "cell_type": "markdown",
   "metadata": {
    "id": "efbd3ff6"
   },
   "source": [
    "## Funções auxiliares\n",
    "\n",
    "Para facilitar um pouco a escrita do código e termos um código focado\n",
    "no problema que queremos resolver, ao invés de nos preocuparmos com\n",
    "detalhes da estrutura interna dos dados, vamos definir aqui algumas\n",
    "funções auxiliares com a responsabilidade exclusiva de coletar uma propriedade específica da lista de pontos, possivelmente tratando o dado coletado."
   ]
  },
  {
   "cell_type": "markdown",
   "metadata": {
    "id": "153bc08d"
   },
   "source": [
    "### def get_point_coords(index, points_object)\n",
    "\n",
    "Essa função irá nos auxiliar para coletar as coordenadas (e.g. longitude e latitude) de um ponto (na posição 'index') da lista de pontos passado também como parâmetro da função.\n",
    "\n",
    "Note que as coordenadas dos pontos (no arquivo de dados) usam a projeção EPSG:4326, isso significa que estas coordenadas são ângulos e portanto precisamos fazer uma conversão, ou mais precisamente uma (re)projeção em um outro sistema de coordenadas (i.e. CRS) que use unidades métricas (e.g. metros)."
   ]
  },
  {
   "cell_type": "code",
   "execution_count": 55,
   "metadata": {
    "id": "31bc5bd1"
   },
   "outputs": [],
   "source": [
    "def get_point_coords(index, points_object):\n",
    "    \"\"\"\n",
    "    Essa função recebe um índice numérico correspondendo a uma\n",
    "    posição na lista de pontos \"points_object\".\n",
    "    \n",
    "    Ela retorna um vetor do numpy com a longitude e latitude\n",
    "    (propriedades 'lng' e 'lat') do ponto na posição 'index'.\n",
    "    \"\"\"\n",
    "    lat = points_object[index]['lat']\n",
    "    lat = float(lat)\n",
    "    lng = points_object[index]['lng']\n",
    "    lng = float(lng)\n",
    "    return np.array((lng, lat))\n"
   ]
  },
  {
   "cell_type": "markdown",
   "metadata": {
    "id": "61d91ec1"
   },
   "source": [
    "### def get_point_coords_proj(index, points_object)\n",
    "\n",
    "Essa função auxiliar faz exatamente o mesmo que a anterior, contudo os pontos aqui são reprojetados para a projeção EPSG:3857, que usa como unidade métrica o 'metro' ao invés de graus de ângulo."
   ]
  },
  {
   "cell_type": "code",
   "execution_count": 56,
   "metadata": {
    "id": "0a13e8b1"
   },
   "outputs": [],
   "source": [
    "def get_point_coords_proj(index, points_object):\n",
    "    \"\"\"\n",
    "    Essa função é similar a get_point_coords, ela \n",
    "    recebe um índice numérico correspondendo a uma\n",
    "    posição na lista de pontos \"points_object\".\n",
    "    \n",
    "    Contudo esta os pontos na projeção EPSG:3857 em\n",
    "    que a unidade de medida é em metros e portanto\n",
    "    podemos calcular a distância euclidiana entre dois\n",
    "    pontos com base em suas coordenadas.\n",
    "    \n",
    "    Os pontos retornados são um vetor numpy em que\n",
    "    a primeira posição é uma medida em metros no eixo\n",
    "    horizontal e a segunda é num eixo vertical.\n",
    "    O ponto de origem pode ser visto aqui https://epsg.io/3857\n",
    "    \"\"\"\n",
    "    \n",
    "    lat = points_object[index]['lat']\n",
    "    lat = float(lat)\n",
    "    lng = points_object[index]['lng']\n",
    "    lng = float(lng)\n",
    "    p = np.array((lng, lat))\n",
    "    p = transform(Proj(init='epsg:4326'), Proj(init='epsg:3857'), p[0], p[1])\n",
    "    return p"
   ]
  },
  {
   "cell_type": "markdown",
   "metadata": {
    "id": "82b0a7d7"
   },
   "source": [
    "### def get_shot_time(index, points_object)\n",
    "\n",
    "Esta função é um acessor para a propriedade 'shot_date' na lista de pontos. Essa propriedade indica o momento (dia e hora incluindo segundos) em que o ponto foi criado."
   ]
  },
  {
   "cell_type": "code",
   "execution_count": 57,
   "metadata": {
    "id": "fd65ea98"
   },
   "outputs": [],
   "source": [
    "FMT = '%Y-%m-%d %H:%M:%S'\n",
    "def get_shot_time(index, points_object):\n",
    "    \"\"\"\n",
    "    Retorna a data e hora em que o ponto 'index',\n",
    "    da lista de pontos 'points_object', foi criado.\n",
    "    \n",
    "    O formato de retorno é uma string '%Y-%m-%d %H:%M:%S'\n",
    "    (e.g. 2018-03-03 20:55:32)\n",
    "    \"\"\"\n",
    "    return points_object[index]['shot_date']"
   ]
  },
  {
   "cell_type": "markdown",
   "metadata": {
    "id": "1881216b"
   },
   "source": [
    "### Visualizando a distância percorrida no tempo\n",
    "Note que o movimento não é perfeitamente uniforme em todos os momentos e note também que nem todos os momentos de tempo existem no conjunto de dados (e.g. lacunas entre dois 'segmentos de reta')"
   ]
  },
  {
   "cell_type": "markdown",
   "metadata": {
    "id": "76e4a73f"
   },
   "source": [
    "## Exemplo com 2 pontos\n",
    "\n",
    "Aqui vamos medir distâncias entre dois pontos\n",
    "para termos uma ideia de como usar as definições\n",
    "e funções auxiliares definidas até aqui."
   ]
  },
  {
   "cell_type": "markdown",
   "metadata": {
    "id": "108599b1"
   },
   "source": [
    "### Coordenadas em metros\n",
    "\n",
    "Usamos a função auxiliar get_point_coords_proj, cujas coordenadas\n",
    "de retorno usam unidades de medida em metros."
   ]
  },
  {
   "cell_type": "code",
   "execution_count": 58,
   "metadata": {
    "id": "9f426f7f",
    "outputId": "188e9d6d-0b84-45ee-a7f0-b1f3d65ba899"
   },
   "outputs": [
    {
     "name": "stdout",
     "output_type": "stream",
     "text": [
      "easting pp1: -9015957.696788337 m; northing pp1: 3822536.8402403975 m\n",
      "easting pp2: -9015938.549835918 m; northing pp2: 3822566.9173842543 m\n"
     ]
    }
   ],
   "source": [
    "pp1 = get_point_coords_proj(faixa_de_pontos[0], pontos)\n",
    "\n",
    "pp2 = get_point_coords_proj(faixa_de_pontos[1], pontos)\n",
    "\n",
    "# Note que aqui temos uma unidade de metros à leste\n",
    "# (ou oeste em caso negativo) e à norte (ou sul\n",
    "# em caso negativo) de um dado local no planeta.\n",
    "\n",
    "print(f'easting pp1: {pp1[0]} m; northing pp1: {pp1[1]} m')\n",
    "print(f'easting pp2: {pp2[0]} m; northing pp2: {pp2[1]} m')"
   ]
  },
  {
   "cell_type": "markdown",
   "metadata": {
    "id": "3978b48a"
   },
   "source": [
    "## Exercício 2"
   ]
  },
  {
   "cell_type": "markdown",
   "metadata": {
    "id": "ae4924e0"
   },
   "source": [
    "### Medindo a distância entre dois pontos\n",
    "\n",
    "Neste exercício você deve implementar a função distancia_euclidiana.\n",
    "\n",
    "Esta função recebe dois vetores (i.e. array numpy) cada um com duas dimensões e retorna\n",
    "a distância euclidiana entre eles."
   ]
  },
  {
   "cell_type": "code",
   "execution_count": 59,
   "metadata": {
    "id": "4d583008"
   },
   "outputs": [],
   "source": [
    "def distancia_euclidiana(v1, v2):\n",
    "    \"\"\"\n",
    "    Tendo como parâmetros os vetores numpy 2D 'v1' e 'v2', crie uma\n",
    "    função que retorne a distância euclidiana entre os dois vetores.\n",
    "    \"\"\"\n",
    "    DLO =  (v2[0] - v1[0])**2 \n",
    "    DLA =  (v2[1] - v1[1])**2 \n",
    "    return int((DLO + DLA)**0.5)"
   ]
  },
  {
   "cell_type": "code",
   "execution_count": 60,
   "metadata": {
    "id": "aedf6dc7",
    "outputId": "75836e3f-92e8-4093-aaa0-758707eb8fa7"
   },
   "outputs": [
    {
     "name": "stdout",
     "output_type": "stream",
     "text": [
      "A distância entre pp1 e pp2 é: 35 metros.\n"
     ]
    }
   ],
   "source": [
    "# Desta vez a distância resultante pode ser interpretada\n",
    "# fisicamente em metros.\n",
    "\n",
    "print(f'A distância entre pp1 e pp2 é: {distancia_euclidiana(pp1, pp2)} metros.')"
   ]
  },
  {
   "cell_type": "code",
   "execution_count": 61,
   "metadata": {
    "id": "66565e2d",
    "outputId": "e73f25bd-d043-4dff-b83d-7a3063dd4dce"
   },
   "outputs": [
    {
     "name": "stdout",
     "output_type": "stream",
     "text": [
      "A distância entre pv1 e pv2 é 2\n",
      "A distância retornada pela função implementada foi 2\n",
      "\n",
      "A distância foi calculada corretamente\n"
     ]
    }
   ],
   "source": [
    "# Teste artificial\n",
    "\n",
    "pv1 = np.array([1, 1]) # Ponto x = 1, y = 1\n",
    "pv2 = np.array([1, -1]) # Ponto x = 2, y = 0\n",
    "\n",
    "print(f'A distância entre pv1 e pv2 é 2')\n",
    "print(f'A distância retornada pela função implementada foi {distancia_euclidiana(pv1, pv2)}\\n')\n",
    "if distancia_euclidiana(pv1, pv2) == 2:\n",
    "    print(\"A distância foi calculada corretamente\")\n",
    "else:\n",
    "    print(\"A distância foi calculada incorretamente\\n\")\n",
    "    print(f\"O erro entre o esperado e o calculado foi {2 - distancia_euclidiana(pv1, pv2)}\")"
   ]
  },
  {
   "cell_type": "markdown",
   "metadata": {
    "id": "cabe6e24"
   },
   "source": [
    "### Exercício - Visualizando o comprimento de cada trecho\n",
    "\n",
    "Usando a função criada no exercício anterior vamos agora ver a distância percorrida pelo veículo a cada passo do sub-trajeto selecionado:\n",
    "\n",
    "A ideia aqui é que todos os pontos da faixa de pontos selecionada sejam percorridos, e para cada par de pontos subsequentes seja calculada a distância entre eles e impressa essa distância.\n",
    "\n",
    "Imprima uma lista como o exemplo a seguir usando a sua função de medir distância entre dois pontos:\n",
    "\n",
    "\n",
    "- trecho 1000 a 1001 ; d = 0\n",
    "- trecho 1001 a 1002 ; d = 0\n",
    "- trecho 1002 a 1003 ; d = 0\n",
    "- trecho 1003 a 1004 ; d = 0\n",
    "- ...\n",
    "- trecho 1097 a 1098 ; d = 0\n",
    "- trecho 1098 a 1099 ; d = 0\n",
    "- trecho 1099 a 1100 ; d = 0\n",
    "\n",
    "Dica, você pode usar a linha abaixo para imprimir uma vez que a distância foi calculada:\n",
    "\n",
    "`print(f'trecho {i} {i+1} ; d = {dist}')`"
   ]
  },
  {
   "cell_type": "code",
   "execution_count": 63,
   "metadata": {},
   "outputs": [
    {
     "name": "stdout",
     "output_type": "stream",
     "text": [
      "Trecho 1000 1001 ; d = 35\n",
      "Trecho 1001 1002 ; d = 34\n",
      "Trecho 1002 1003 ; d = 67\n",
      "Trecho 1003 1004 ; d = 34\n",
      "Trecho 1004 1005 ; d = 35\n",
      "Trecho 1005 1006 ; d = 33\n",
      "Trecho 1006 1007 ; d = 33\n",
      "Trecho 1007 1008 ; d = 68\n",
      "Trecho 1008 1009 ; d = 33\n",
      "Trecho 1009 1010 ; d = 34\n",
      "Trecho 1010 1011 ; d = 34\n",
      "Trecho 1011 1012 ; d = 34\n",
      "Trecho 1012 1013 ; d = 67\n",
      "Trecho 1013 1014 ; d = 33\n",
      "Trecho 1014 1015 ; d = 34\n",
      "Trecho 1015 1016 ; d = 67\n",
      "Trecho 1016 1017 ; d = 34\n",
      "Trecho 1017 1018 ; d = 34\n",
      "Trecho 1018 1019 ; d = 34\n",
      "Trecho 1019 1020 ; d = 68\n",
      "Trecho 1020 1021 ; d = 34\n",
      "Trecho 1021 1022 ; d = 68\n",
      "Trecho 1022 1023 ; d = 34\n",
      "Trecho 1023 1024 ; d = 33\n",
      "Trecho 1024 1025 ; d = 34\n",
      "Trecho 1025 1026 ; d = 67\n",
      "Trecho 1026 1027 ; d = 34\n",
      "Trecho 1027 1028 ; d = 33\n",
      "Trecho 1028 1029 ; d = 67\n",
      "Trecho 1029 1030 ; d = 34\n",
      "Trecho 1030 1031 ; d = 34\n",
      "Trecho 1031 1032 ; d = 68\n",
      "Trecho 1032 1033 ; d = 34\n",
      "Trecho 1033 1034 ; d = 33\n",
      "Trecho 1034 1035 ; d = 34\n",
      "Trecho 1035 1036 ; d = 67\n",
      "Trecho 1036 1037 ; d = 34\n",
      "Trecho 1037 1038 ; d = 34\n",
      "Trecho 1038 1039 ; d = 68\n",
      "Trecho 1039 1040 ; d = 34\n",
      "Trecho 1040 1041 ; d = 33\n",
      "Trecho 1041 1042 ; d = 33\n",
      "Trecho 1042 1043 ; d = 33\n",
      "Trecho 1043 1044 ; d = 68\n",
      "Trecho 1044 1045 ; d = 34\n",
      "Trecho 1045 1046 ; d = 33\n",
      "Trecho 1046 1047 ; d = 67\n",
      "Trecho 1047 1048 ; d = 34\n",
      "Trecho 1048 1049 ; d = 33\n",
      "Trecho 1049 1050 ; d = 67\n",
      "Trecho 1050 1051 ; d = 32\n",
      "Trecho 1051 1052 ; d = 34\n",
      "Trecho 1052 1053 ; d = 34\n",
      "Trecho 1053 1054 ; d = 34\n",
      "Trecho 1054 1055 ; d = 68\n",
      "Trecho 1055 1056 ; d = 33\n",
      "Trecho 1056 1057 ; d = 34\n",
      "Trecho 1057 1058 ; d = 33\n",
      "Trecho 1058 1059 ; d = 67\n",
      "Trecho 1059 1060 ; d = 33\n",
      "Trecho 1060 1061 ; d = 33\n",
      "Trecho 1061 1062 ; d = 66\n",
      "Trecho 1062 1063 ; d = 33\n",
      "Trecho 1063 1064 ; d = 36\n",
      "Trecho 1064 1065 ; d = 69\n",
      "Trecho 1065 1066 ; d = 34\n",
      "Trecho 1066 1067 ; d = 32\n",
      "Trecho 1067 1068 ; d = 33\n",
      "Trecho 1068 1069 ; d = 66\n",
      "Trecho 1069 1070 ; d = 35\n",
      "Trecho 1070 1071 ; d = 32\n",
      "Trecho 1071 1072 ; d = 67\n",
      "Trecho 1072 1073 ; d = 34\n",
      "Trecho 1073 1074 ; d = 68\n",
      "Trecho 1074 1075 ; d = 34\n",
      "Trecho 1075 1076 ; d = 34\n",
      "Trecho 1076 1077 ; d = 33\n",
      "Trecho 1077 1078 ; d = 67\n",
      "Trecho 1078 1079 ; d = 34\n",
      "Trecho 1079 1080 ; d = 34\n",
      "Trecho 1080 1081 ; d = 68\n",
      "Trecho 1081 1082 ; d = 34\n",
      "Trecho 1082 1083 ; d = 34\n",
      "Trecho 1083 1084 ; d = 33\n",
      "Trecho 1084 1085 ; d = 33\n",
      "Trecho 1085 1086 ; d = 68\n",
      "Trecho 1086 1087 ; d = 34\n",
      "Trecho 1087 1088 ; d = 34\n",
      "Trecho 1088 1089 ; d = 33\n",
      "Trecho 1089 1090 ; d = 69\n",
      "Trecho 1090 1091 ; d = 34\n",
      "Trecho 1091 1092 ; d = 33\n",
      "Trecho 1092 1093 ; d = 67\n",
      "Trecho 1093 1094 ; d = 33\n",
      "Trecho 1094 1095 ; d = 34\n",
      "Trecho 1095 1096 ; d = 32\n",
      "Trecho 1096 1097 ; d = 66\n",
      "Trecho 1097 1098 ; d = 33\n",
      "Trecho 1098 1099 ; d = 32\n",
      "Trecho 1099 1100 ; d = 66\n"
     ]
    }
   ],
   "source": [
    "def dist(pontos):\n",
    "    pp1_faicha = 1000\n",
    "    pp2_faicha = 1001\n",
    "    d = 0\n",
    "    while(pp2_faicha != 1101):\n",
    "         pp1 = get_point_coords_proj(pp1_faicha,pontos)\n",
    "         pp2 = get_point_coords_proj(pp2_faicha,pontos)\n",
    "         d = distancia_euclidiana(pp1,pp2)\n",
    "         print(f'Trecho {pp1_faicha} {pp2_faicha} ; d = {d}')\n",
    "         pp1_faicha += 1 \n",
    "         pp2_faicha += 1\n",
    "    \n",
    "dist(pontos)"
   ]
  }
 ],
 "metadata": {
  "colab": {
   "name": "MAC0209-Ex2.ipynb",
   "provenance": []
  },
  "kernelspec": {
   "display_name": "Python 2",
   "language": "python",
   "name": "python2"
  },
  "language_info": {
   "codemirror_mode": {
    "name": "ipython",
    "version": 2
   },
   "file_extension": ".py",
   "mimetype": "text/x-python",
   "name": "python",
   "nbconvert_exporter": "python",
   "pygments_lexer": "ipython2",
   "version": "2.7.16"
  }
 },
 "nbformat": 4,
 "nbformat_minor": 5
}
