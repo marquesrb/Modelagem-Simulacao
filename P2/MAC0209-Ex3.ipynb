{
 "cells": [
  {
   "cell_type": "markdown",
   "metadata": {
    "id": "20be12cc"
   },
   "source": [
    "Importação das bibliotecas que serão necessárias.\n",
    "\n",
    "Aqui fazemos a instalação (import) de pacotes (package) do Python que serão necessários ao longo do notebook."
   ]
  },
  {
   "cell_type": "markdown",
   "metadata": {
    "id": "b321d96d"
   },
   "source": [
    "### pyproj (biblioteca para mudança do sistema de coordenadas)\n",
    "Para instalar o pyproj rode a célula abaixo"
   ]
  },
  {
   "cell_type": "code",
   "execution_count": 1,
   "metadata": {
    "id": "4086d59b",
    "outputId": "95bc5c0e-8ff5-4a41-f68a-1a585a2b6346"
   },
   "outputs": [
    {
     "name": "stdout",
     "output_type": "stream",
     "text": [
      "Requirement already satisfied: pyproj in /home/ime/anaconda3/lib/python3.8/site-packages (3.0.1)\r\n",
      "Requirement already satisfied: certifi in /home/ime/anaconda3/lib/python3.8/site-packages (from pyproj) (2020.6.20)\r\n"
     ]
    }
   ],
   "source": [
    "!python -m pip install pyproj"
   ]
  },
  {
   "cell_type": "markdown",
   "metadata": {
    "id": "44467d80"
   },
   "source": [
    "### tqdm (biblioteca para mostrar barras de progresso)\n",
    "Para instalar o tqdm rode a célula abaixo"
   ]
  },
  {
   "cell_type": "code",
   "execution_count": 2,
   "metadata": {
    "id": "c223dd67",
    "outputId": "16b0bede-c954-446b-88e4-472ed90418b4"
   },
   "outputs": [
    {
     "name": "stdout",
     "output_type": "stream",
     "text": [
      "Requirement already satisfied: tqdm in /home/ime/anaconda3/lib/python3.8/site-packages (4.50.2)\r\n"
     ]
    }
   ],
   "source": [
    "!python -m pip install tqdm"
   ]
  },
  {
   "cell_type": "code",
   "execution_count": 3,
   "metadata": {
    "id": "c7a83a17"
   },
   "outputs": [],
   "source": [
    "import matplotlib.pyplot as plt\n",
    "\n",
    "import shutil\n",
    "\n",
    "from datetime import datetime\n",
    "\n",
    "import json\n",
    "\n",
    "import numpy as np\n",
    "\n",
    "from pyproj import Proj, transform"
   ]
  },
  {
   "cell_type": "markdown",
   "metadata": {
    "id": "f96ef7f6"
   },
   "source": [
    "# Carregando o arquivo de dados do KartaView\n",
    "\n",
    "Vamos agora analisar os dados coletados através da plataforma KartaView.\n",
    "\n",
    "Esses dados estão formatados usando-se o formato JSON de JavaScript Object Notation.\n",
    "\n",
    "Um arquivo JSON é um arquivo de texto com uma mensagem estruturada com o formato JSON."
   ]
  },
  {
   "cell_type": "code",
   "execution_count": 4,
   "metadata": {
    "id": "bf4f3618"
   },
   "outputs": [],
   "source": [
    "# Vamos carregar os pontos (do JSON filtrado) na variável pontos.\n",
    "arquivo_pontos = \"cleaned_sample2.json\"\n",
    "\n",
    "with open(arquivo_pontos, \"r\") as f:\n",
    "    pontos = f.read()\n",
    "    pontos = json.loads(pontos)\n",
    "\n"
   ]
  },
  {
   "cell_type": "markdown",
   "metadata": {
    "id": "098928ea"
   },
   "source": [
    "# Medindo distâncias"
   ]
  },
  {
   "cell_type": "markdown",
   "metadata": {
    "id": "5c4c63d8"
   },
   "source": [
    "## Funções auxiliares\n",
    "\n",
    "Para facilitar a escrita do código e terminarmos com código adequado ao problema que queremos resolver, ao invés de nos preocuparmos com\n",
    "detalhes da estrutura interna dos dados, vamos definir aqui algumas funções auxiliares com a responsabilidade exclusiva de coletar uma propriedade específica da lista de pontos, possivelmente tratando o dado coletado.\n",
    "\n"
   ]
  },
  {
   "cell_type": "markdown",
   "metadata": {
    "id": "c2f581a8"
   },
   "source": [
    "### def get_point_coords(index, points_object)\n",
    "\n",
    "Essa função irá nos auxiliar para coletar as coordenadas (e.g. longitude e latitude) de um ponto (na posição 'index') da lista de pontos passado também como parâmetro da função.\n",
    "\n",
    "Note que as coordenadas dos pontos (no arquivo de dados) usam a projeção EPSG:4326, isso significa que estas coordenadas são angulos e portanto precisamos fazer uma conversão, ou mais precisamente uma (re)projeção em um outro sistema de coordenadas (i.e. CRS) que use unidades métricas (e.g. metros)."
   ]
  },
  {
   "cell_type": "code",
   "execution_count": 5,
   "metadata": {
    "id": "332abf5c"
   },
   "outputs": [],
   "source": [
    "def get_point_coords(index, points_object):\n",
    "    \"\"\"\n",
    "    Essa função recebe um índice numérico correspondendo a uma\n",
    "    posição na lista de pontos \"points_object\".\n",
    "    \n",
    "    Ela retorna um vetor do numpy com a longitude e latitude\n",
    "    (propriedades 'lng' e 'lat') do ponto na posição 'index'.\n",
    "    \"\"\"\n",
    "    lat = points_object[index]['lat']\n",
    "    lat = float(lat)\n",
    "    lng = points_object[index]['lng']\n",
    "    lng = float(lng)\n",
    "    return np.array((lng, lat))\n"
   ]
  },
  {
   "cell_type": "markdown",
   "metadata": {
    "id": "e9681d27"
   },
   "source": [
    "### def get_point_coords_proj(index, points_object)\n",
    "\n",
    "Essa função auxiliar faz exatamente o mesmo que a anterior, contudo os pontos aqui são reprojetados para a projeção EPSG:3857, que usa como unidade métrica o 'metro' ao invés de graus de ângulo."
   ]
  },
  {
   "cell_type": "code",
   "execution_count": 6,
   "metadata": {
    "id": "2d17eb10"
   },
   "outputs": [],
   "source": [
    "def get_point_coords_proj(index, points_object):\n",
    "    \"\"\"\n",
    "    Essa função é similar a get_point_coords, ela \n",
    "    recebe um índice numérico correspondendo a uma\n",
    "    posição na lista de pontos \"points_object\".\n",
    "    \n",
    "    Contudo esta os pontos na projeção EPSG:3857 em\n",
    "    que a unidade de medida é em metros e portanto\n",
    "    podemos calcular a distância euclidiana entre dois\n",
    "    pontos com base em suas coordenadas.\n",
    "    \n",
    "    Os pontos retornados são um vetor numpy em que\n",
    "    a primeira posição é uma medida em metros no eixo\n",
    "    horizontal e a segunda é num eixo vertical.\n",
    "    O ponto de origem pode ser visto aqui https://epsg.io/3857\n",
    "    \"\"\"\n",
    "    \n",
    "    lat = points_object[index]['lat']\n",
    "    lat = float(lat)\n",
    "    lng = points_object[index]['lng']\n",
    "    lng = float(lng)\n",
    "    p = np.array((lng, lat))\n",
    "    p = transform(Proj(init='epsg:4326'), Proj(init='epsg:3857'), p[0], p[1])\n",
    "    return p"
   ]
  },
  {
   "cell_type": "markdown",
   "metadata": {
    "id": "eb11ecfe"
   },
   "source": [
    "### def get_shot_time(index, points_object)\n",
    "\n",
    "Esta função é um acessor para a propriedade 'shot_date' na lista de pontos. Essa propriedade indica o momento (dia e hora incluindo segundos) em que o ponto foi criado."
   ]
  },
  {
   "cell_type": "code",
   "execution_count": 7,
   "metadata": {
    "id": "33ff3c41"
   },
   "outputs": [],
   "source": [
    "FMT = '%Y-%m-%d %H:%M:%S'\n",
    "def get_shot_time(index, points_object):\n",
    "    \"\"\"\n",
    "    Retorna a data e hora em que o ponto 'index',\n",
    "    da lista de pontos 'points_object', foi criado.\n",
    "    \n",
    "    O formato de retorno é uma string '%Y-%m-%d %H:%M:%S'\n",
    "    (e.g. 2018-03-03 20:55:32)\n",
    "    \"\"\"\n",
    "    t = points_object[index]['shot_date']\n",
    "    t = datetime.strptime(t, FMT)\n",
    "    return t"
   ]
  },
  {
   "cell_type": "code",
   "execution_count": 8,
   "metadata": {
    "id": "16e47b83"
   },
   "outputs": [],
   "source": [
    "def get_points_in_time_interval(min_sec, max_sec, points_object):\n",
    "    selected_points = []\n",
    "    for i in range(len(points_object)):\n",
    "        point = points_object[i]\n",
    "        if point['tempo_decorrido'] < min_sec:\n",
    "            continue\n",
    "        if point['tempo_decorrido'] > max_sec:\n",
    "            break\n",
    "        selected_points.append(point)\n",
    "    return selected_points\n",
    "            \n",
    "            "
   ]
  },
  {
   "cell_type": "code",
   "execution_count": 9,
   "metadata": {
    "id": "3477aa36"
   },
   "outputs": [],
   "source": [
    "def distancia_euclidiana(v1, v2):\n",
    "    \"\"\"\n",
    "    Tendo como parâmetros os vetores numpy 2D 'v1' e 'v2', crie uma\n",
    "    função que retorne a distância euclidiana entre os dois vetores.\n",
    "    \"\"\"\n",
    "    return np.sqrt(np.sum((v1-v2)**2))"
   ]
  },
  {
   "cell_type": "markdown",
   "metadata": {
    "id": "31fddd26"
   },
   "source": [
    "# Modelagem e predições\n",
    "\n",
    "Vamos amostrar agora um trecho do trajeto e com base nesta amostra vamos calcular a velocidade média ao longo do trajeto principal, em várias partes do trajeto. Além disso também vamos tentar predizer com este modelo qual a posição do veículo (i.e. distância percorrida ao longo do trajeto) em instantes de tempo que não foram amostrados."
   ]
  },
  {
   "cell_type": "markdown",
   "metadata": {
    "id": "e9d022b8"
   },
   "source": [
    "## Exercício 1 - Distância e tempo decorrido até um ponto dado\n",
    "\n",
    "A projeção de coordenadas esféricas para o plano cartesiano é uma operação computacionalmente demorada. Assim, executamos previamente a projeção das coordenadas do sistema de coordenadas EPSG:4326 (coordenadas esféricas) para o sistema de coordenadas EPSG:3857 (com coordenadas no plano cartesiano e unidades em metros). As coordenadas convertidas foram armazenadas no próprio arquivo json com os pontos de cada foto. As novas propriedades se chamam `easting` indicando em metros a posição da foto no eixo horizontal e `northing` indicando também em metros a posição da foto no eixo vertical.\n",
    "\n",
    "O código abaixo ilustra como estas propriedades foram calculadas e como foram inseridas no arquivo json dos dados (i.e. `cleaned_sample2.json`):\n",
    "\n",
    "```\n",
    "from tqdm.auto import tqdm\n",
    "for i in tqdm(range(len(pontos))):\n",
    "    if pontos[i].get('easting') is not None:\n",
    "        continue\n",
    "    easting, northing = get_point_coords_proj(i, pontos)\n",
    "    pontos[i]['easting'] = easting\n",
    "    pontos[i]['northing'] = northing\n",
    "\n",
    "with open('cleaned_sample2.json', 'w+') as f:\n",
    "    json.dump(pontos, f, indent=2)\n",
    "```\n",
    "\n",
    "Exercício 1A - Usando o arquivo `cleaned_sample2.json` você deve calcular a distância percorrida desde o ínicio do trajeto escolhido até um ponto atual dado (em metros) usando as novas propriedades `easting` e `northing`. Assuma que a distância percorrida até o início do trajeto (primeiro ponto) é zero.\n",
    "\n",
    "Exercício 1B - Você também deve calcular o tempo decorrido (em segundos) desde o ínicio do trajeto escolhido até o ponto atual dado.\n",
    "\n",
    "Exercício 1C - Insira os valores calculados como novas propriedades dos pontos chamadas `distancia_percorrida` e `tempo_decorrido` (em segundos) e salve essa nova coleção de pontos num novo arquivo json chamado `cleaned_sample3.json`."
   ]
  },
  {
   "cell_type": "code",
   "execution_count": 10,
   "metadata": {},
   "outputs": [],
   "source": [
    "def distancia_tempo(tfim,pontos):  \n",
    "    d = 0\n",
    "    t = 0 \n",
    "    tinicio = 0\n",
    "    info = []   \n",
    "    while(tinicio < tfim):\n",
    "        pp1 = np.array((float(pontos[tinicio]['easting']),float(pontos[tinicio]['northing'])))\n",
    "        pp2 = np.array((float(pontos[tinicio+1]['easting']),float(pontos[tinicio+1]['northing'])))\n",
    "        d = d + distancia_euclidiana(pp1,pp2) \n",
    "        t = t + (get_shot_time(tinicio+1, pontos) - get_shot_time(tinicio, pontos)).seconds\n",
    "        pontos[tinicio]['tempo_decorrido'] = t\n",
    "        pontos[tinicio]['distancia_percorrida'] = d \n",
    "        info.append(pontos[tinicio])\n",
    "        tinicio += 1\n",
    "    cleaned_sample3(pontos)\n",
    "    return info\n",
    "\n",
    "def cleaned_sample3(pontos):   \n",
    "    f = open('cleaned_sample3.json', \"w\")\n",
    "    json.dump(pontos, f, indent=2)\n"
   ]
  },
  {
   "cell_type": "code",
   "execution_count": 11,
   "metadata": {
    "id": "b26a2085",
    "outputId": "8e3b3484-c5b6-4d84-a3ca-edd8891f7716"
   },
   "outputs": [
    {
     "name": "stdout",
     "output_type": "stream",
     "text": [
      "A diferença entre dois objetos 'datetime' gera um objeto 'timedelta': <class 'datetime.timedelta'>\n",
      "Exemplo do objeto 'timedelta': 0:00:07\n",
      "Segundos decorridos: 7\n"
     ]
    }
   ],
   "source": [
    "# Dica, para pegar e calcular a diferença de tempo entre dois pontos você pode usar a função get_shot_time:\n",
    "tdelta = get_shot_time(1, pontos)-get_shot_time(0, pontos)\n",
    "print(f\"A diferença entre dois objetos 'datetime' gera um objeto 'timedelta': {type(tdelta)}\")\n",
    "print(f\"Exemplo do objeto 'timedelta': {tdelta}\")\n",
    "print(f'Segundos decorridos: {tdelta.seconds}')"
   ]
  },
  {
   "cell_type": "markdown",
   "metadata": {
    "id": "b45f028d"
   },
   "source": [
    "Se tudo der certo, um ponto no ínicio do trajeto (índice baixo) vai ser parecido com o abaixo:\n",
    "\n",
    "\n",
    "`pontos[3]`\n",
    "\n",
    "```\n",
    "{'lat': '32.188302',\n",
    " 'lng': '-81.195051',\n",
    " 'heading': '124.32529',\n",
    " 'shot_date': '2018-03-03 20:29:53',\n",
    " 'easting': -9038591.73225388,\n",
    " 'northing': 3788053.65048532,\n",
    " 'tempo_decorrido': 17,\n",
    " 'distancia_percorrida': 30.770423073027203}\n",
    "```\n",
    "\n",
    "e um ponto mais pro meio do trajeto vai parecer com algo assim:\n",
    "\n",
    "`pontos[1000]`\n",
    "\n",
    "```\n",
    "{'lat': '32.450081',\n",
    " 'lng': '-80.991726',\n",
    " 'heading': '57.014393',\n",
    " 'shot_date': '2018-03-03 20:53:26',\n",
    " 'easting': -9015957.696788337,\n",
    " 'northing': 3822536.8402403975,\n",
    " 'tempo_decorrido': 1430,\n",
    " 'distancia_percorrida': 43456.56002203702}\n",
    "```"
   ]
  },
  {
   "cell_type": "markdown",
   "metadata": {
    "id": "7fd387b8"
   },
   "source": [
    "## Selecionando um intervalo para análise do movimento\n",
    "\n",
    "Assumindo que o vetor de pontos (i.e. `pontos`) agora contém objetos com as propriedades `distancia_percorrida` e `tempo_decorrido` podemos usar estas novas propriedades para analisar o movimento.\n",
    "\n",
    "Como exemplo, selecionamos um intervalo que irá conter pontos que ocorrem após `tinicio` segundos e antes de  `tfim` segundos após o ínicio do percurso. Esses pontos foram escolhidos pois correspondem a um trecho de estrada que parece-se com uma reta."
   ]
  },
  {
   "cell_type": "code",
   "execution_count": 12,
   "metadata": {
    "id": "181730dd",
    "outputId": "501341fb-034c-43f8-efae-6b050d32fa61"
   },
   "outputs": [
    {
     "name": "stdout",
     "output_type": "stream",
     "text": [
      "Número de pontos no intervalo: 127\n",
      "Instante inicial do intervalo: 3000 segundos\n",
      "Instante final do intervalo: 3180 segundos\n"
     ]
    }
   ],
   "source": [
    "tinicio = 3000\n",
    "tfim = 3180\n",
    "pontos = distancia_tempo(len(pontos)-1,pontos)\n",
    "pontos_intervalo = get_points_in_time_interval(tinicio, tfim, pontos)\n",
    "print(f\"Número de pontos no intervalo: {len(pontos_intervalo)}\") \n",
    "print(f\"Instante inicial do intervalo: {pontos_intervalo[0]['tempo_decorrido']} segundos\")\n",
    "print(f\"Instante final do intervalo: {pontos_intervalo[-1]['tempo_decorrido']} segundos\")"
   ]
  },
  {
   "cell_type": "code",
   "execution_count": 13,
   "metadata": {
    "colab": {
     "base_uri": "https://localhost:8080/"
    },
    "executionInfo": {
     "elapsed": 1009,
     "status": "ok",
     "timestamp": 1619420064205,
     "user": {
      "displayName": "Artur André Almeida de Macedo Oliveira",
      "photoUrl": "",
      "userId": "03596783672353073020"
     },
     "user_tz": 180
    },
    "id": "b7888e3b",
    "outputId": "9b1ed746-1fe6-4a0d-d1b8-6bec4776e510"
   },
   "outputs": [
    {
     "name": "stdout",
     "output_type": "stream",
     "text": [
      "Número de pontos amostrados: 11\n"
     ]
    }
   ],
   "source": [
    "# Os pontos abaixos foram selecionados de forma que entre cada um deles se passam exatamente 18 segundos.\n",
    "sample_points = [pontos_intervalo[i] for i in [0, 13, 25, 38, 51, 64, 76, 89, 101, 113, 126]]\n",
    "\n",
    "print(f\"Número de pontos amostrados: {len(sample_points)}\")"
   ]
  },
  {
   "cell_type": "markdown",
   "metadata": {
    "id": "9be36416"
   },
   "source": [
    "## Exercício 2. Usando os pontos selecionados acima, calcule a velocidade média em cada trecho e compare com a velocidade média no trecho todo (tinicio=3000 até tfim=3180). \n",
    "\n",
    "Para organizar melhor seu trabalho para os próximos exercícios, crie três vetores:\n",
    "- tempos - vetor com a lista dos tempo em que cada ponto foi alcançado\n",
    "- distancias - vetor com a lista das distâncias acumuladas em cada trecho (entre cada um ponto e outro). \n",
    "- velocidades - vetor com a lista de velocidades médias em cada trecho."
   ]
  },
  {
   "cell_type": "code",
   "execution_count": 14,
   "metadata": {
    "id": "8afea4fc"
   },
   "outputs": [
    {
     "name": "stdout",
     "output_type": "stream",
     "text": [
      "Velocidades: [27.049708724288678, 27.090985641562416, 27.131168108981328, 27.17141331235005, 27.213211962117267, 27.252822712902148, 27.29369606218685, 27.33243547997429, 27.372138920647025, 27.40937810193232, 27.44589329994134]\n"
     ]
    }
   ],
   "source": [
    "tempos = [sample_points[i]['tempo_decorrido']for i in range(len(sample_points))]\n",
    "distancias = [sample_points[i]['distancia_percorrida']for i in range(len(sample_points))]\n",
    "velocidades = []\n",
    "for el in range(len(sample_points)):\n",
    "    velocidades.append(distancias[el]/tempos[el])\n",
    "print(f'Velocidades: {velocidades}')"
   ]
  },
  {
   "cell_type": "markdown",
   "metadata": {
    "id": "9f2b8885"
   },
   "source": [
    "### Visualização das amostras - O código abaixo serve para você visualizar a posição do carro em função do tempo."
   ]
  },
  {
   "cell_type": "code",
   "execution_count": 15,
   "metadata": {
    "id": "c9d46508"
   },
   "outputs": [],
   "source": [
    "def plot_dist_time(dist_vec, time_vec, marker='.', **kwargs):\n",
    "    fig, ax = plt.subplots(1, **kwargs)\n",
    "    #fig, ax = plt.subplots(1, figsize=(16,8))\n",
    "    ax.scatter(time_vec, dist_vec, marker=marker)\n",
    "    ax.set_xlabel('tempo decorrido (s)', fontsize=14);\n",
    "    ax.set_ylabel('distância percorrida (m)', fontsize=14);\n",
    "    return fig, ax"
   ]
  },
  {
   "cell_type": "code",
   "execution_count": 16,
   "metadata": {
    "id": "c617d797",
    "outputId": "7256f897-158e-49d0-840a-1c98edd125a3"
   },
   "outputs": [
    {
     "data": {
      "image/png": "[encoded data removed]",
      "text/plain": [
       "<Figure size 432x288 with 1 Axes>"
      ]
     },
     "metadata": {
      "needs_background": "light"
     },
     "output_type": "display_data"
    }
   ],
   "source": [
    "fig, ax = plot_dist_time(distancias, tempos, marker='x')\n",
    "#plt.scatter(tempos, distancias, marker='x')\n",
    "#plt.xlabel('tempo (s)')\n",
    "#plt.ylabel('distância (m)')"
   ]
  },
  {
   "cell_type": "markdown",
   "metadata": {
    "id": "7k4zVf_dkoNe"
   },
   "source": [
    "## Exercício 3. Faça agora um gráfico das velocidades médias calculadas.\n"
   ]
  },
  {
   "cell_type": "code",
   "execution_count": 17,
   "metadata": {
    "id": "8e0e8696",
    "outputId": "64a56d50-5d0b-4b3b-fc76-3265d20443e6"
   },
   "outputs": [
    {
     "data": {
      "image/png": "[encoded data removed]",
      "text/plain": [
       "<Figure size 432x288 with 1 Axes>"
      ]
     },
     "metadata": {
      "needs_background": "light"
     },
     "output_type": "display_data"
    }
   ],
   "source": [
    "def plot_vec_time(vec,time, marker='.', **kwargs):\n",
    "    fig, ax = plt.subplots(1, **kwargs)\n",
    "    ax.scatter(time,vec, marker=marker)\n",
    "    ax.set_xlabel('tempo decorrido (s)', fontsize=14);\n",
    "    ax.set_ylabel('velocidade alcançada (m)', fontsize=14);\n",
    "    return fig, ax\n",
    "\n",
    "fig, ax = plot_vec_time(velocidades, tempos, marker='x')\n",
    "    "
   ]
  },
  {
   "cell_type": "markdown",
   "metadata": {
    "id": "fdb16127"
   },
   "source": [
    "## Exercício 4. Faça o mesmo para o trajeto completo, isto é, do primeiro ponto até o último ponto do arquivo cleaned_sample3.json.\n",
    "\n",
    "Se você fez o gráfico corretamente, você verá três trechos em que a velocidade é aproximadamente constante. \n",
    "\n",
    "## Exercício 5. Calcule a velocidade média em cada trecho em que a velocidade é aproximadamente constante.\n",
    "\n",
    "## Exercício 6. Tente explicar em palavras o que acontece nas descontinuidades do gráfico.\n",
    "\n"
   ]
  },
  {
   "cell_type": "code",
   "execution_count": 18,
   "metadata": {
    "colab": {
     "referenced_widgets": [
      "d2b149f0d8d14478a42d0c7be19b8bb3",
      "af481fffa50a498bb1adb363a0df6041"
     ]
    },
    "id": "b76b64e0",
    "outputId": "e20b90ec-6c15-4329-c520-707dc0efe538",
    "scrolled": false
   },
   "outputs": [
    {
     "name": "stdout",
     "output_type": "stream",
     "text": [
      "Velocidade média trecho 1: 34.060405845223144 m/s; Velocidade média trecho 2: 33.89744824153721 m/s; Velocidade média trecho 3: 34.05456067823048 m/s\n"
     ]
    },
    {
     "data": {
      "text/plain": [
       "'\\nA descontinuidade no gráfico ocorre pois não tem fotos dessa parte da trajetória, \\nou seja sem fotos não há metadados a serem extraidos ou representados.\\n'"
      ]
     },
     "execution_count": 18,
     "metadata": {},
     "output_type": "execute_result"
    },
    {
     "data": {
      "image/png": "[encoded data removed]",
      "text/plain": [
       "<Figure size 1152x576 with 1 Axes>"
      ]
     },
     "metadata": {
      "needs_background": "light"
     },
     "output_type": "display_data"
    }
   ],
   "source": [
    "#Exercícios 4\n",
    "\n",
    "tempos = [pontos[i]['tempo_decorrido']for i in range(len(pontos))]\n",
    "distancias = [pontos[i]['distancia_percorrida']for i in range(len(pontos))]\n",
    "velocidades = []\n",
    "for el in range(len(pontos)):\n",
    "    v = distancias[el] / tempos[el]\n",
    "    velocidades.append(v)\n",
    "#print(f'Velocidades: {velocidades}')\n",
    "\n",
    "#Exercícios 5\n",
    "trecho1 = get_points_in_time_interval(1000, 1150, pontos)\n",
    "trecho2 = get_points_in_time_interval(3850, 4000, pontos)\n",
    "trecho3 = get_points_in_time_interval(6000, 6150, pontos)\n",
    "vec_1 = (trecho1[-1]['distancia_percorrida']-trecho1[0]['distancia_percorrida']) / (trecho1[-1]['tempo_decorrido']-trecho1[0]['tempo_decorrido'])\n",
    "vec_2 = (trecho2[-1]['distancia_percorrida']-trecho2[0]['distancia_percorrida']) / (trecho2[-1]['tempo_decorrido']-trecho2[0]['tempo_decorrido'])\n",
    "vec_3 = (trecho3[-1]['distancia_percorrida']-trecho3[0]['distancia_percorrida']) / (trecho3[-1]['tempo_decorrido']-trecho3[0]['tempo_decorrido'])\n",
    "print(f'Velocidade média trecho 1: {vec_1} m/s; Velocidade média trecho 2: {vec_2} m/s; Velocidade média trecho 3: {vec_3} m/s')\n",
    "\n",
    "def plot_total(dist,time, marker='.'):\n",
    "    fig, ax = plt.subplots(1, figsize=(16,8))\n",
    "    ax.scatter(time,dist, marker=marker)\n",
    "    ax.set_xlabel('tempo decorrido (s)', fontsize=14);\n",
    "    ax.set_ylabel('distancia percorrida (m)', fontsize=14);\n",
    "    return fig, ax\n",
    "\n",
    "fig, ax = plot_total(distancias, tempos, marker='x')\n",
    "\n",
    "#Exercício 6\n",
    "\n",
    "\"\"\"\n",
    "A descontinuidade no gráfico ocorre pois não tem fotos dessa parte da trajetória, \n",
    "ou seja sem fotos não há metadados a serem extraidos ou representados.\n",
    "\"\"\""
   ]
  },
  {
   "cell_type": "markdown",
   "metadata": {
    "id": "b45a61be"
   },
   "source": [
    "## Exercício 7. Usando as velocidades médias calculadas no exercício 5, estabeleça uma posição inicial para cada trecho e calcule a posição do veículo para 50 pontos de acordo com o modelo de movimento uniforme e compare, medindo o erro entre a posição calculada e a posição observada do veículo. Faça um gráfico da dispersão dos erros para cada trecho. "
   ]
  },
  {
   "cell_type": "code",
   "execution_count": 19,
   "metadata": {},
   "outputs": [
    {
     "data": {
      "image/png": "[encoded data removed]",
      "text/plain": [
       "<Figure size 432x288 with 1 Axes>"
      ]
     },
     "metadata": {
      "needs_background": "light"
     },
     "output_type": "display_data"
    },
    {
     "data": {
      "image/png": "[encoded data removed]",
      "text/plain": [
       "<Figure size 432x288 with 1 Axes>"
      ]
     },
     "metadata": {
      "needs_background": "light"
     },
     "output_type": "display_data"
    },
    {
     "data": {
      "image/png": "[encoded data removed]",
      "text/plain": [
       "<Figure size 432x288 with 1 Axes>"
      ]
     },
     "metadata": {
      "needs_background": "light"
     },
     "output_type": "display_data"
    }
   ],
   "source": [
    "from matplotlib import pyplot\n",
    "\n",
    "#Exercício 7\n",
    "dp1 = []\n",
    "dp2 = []\n",
    "dp3 = []\n",
    "for i in range(0,49):\n",
    "    s1 = trecho1[0]['distancia_percorrida'] + (vec_1 *(trecho1[i]['tempo_decorrido']-trecho1[0]['tempo_decorrido']))\n",
    "    s2 = trecho2[0]['distancia_percorrida'] + (vec_2 *(trecho2[i]['tempo_decorrido']-trecho2[0]['tempo_decorrido']))\n",
    "    s3 = trecho3[0]['distancia_percorrida'] + (vec_3 *(trecho3[i]['tempo_decorrido']-trecho3[0]['tempo_decorrido']))\n",
    "    dp1.append(s1)\n",
    "    dp2.append(s2)\n",
    "    dp3.append(s3)\n",
    "\n",
    "trecho1 = [[trecho1[i]['distancia_percorrida']-dp1[i]]for i in range(0,49)]\n",
    "trecho2 = [[trecho2[i]['distancia_percorrida']-dp2[i]]for i in range(0,49)]\n",
    "trecho3 = [[trecho3[i]['distancia_percorrida']-dp3[i]]for i in range(0,49)]\n",
    "\n",
    "pyplot.scatter(dp1,trecho1)\n",
    "pyplot.title('Gráfico de Dispersão entre trecho 1 e a posição observada do veículo')\n",
    "pyplot.show()\n",
    "\n",
    "pyplot.scatter(dp2,trecho2)\n",
    "pyplot.title('Gráfico de Dispersão entre trecho 2 e a posição observada do veículo')\n",
    "pyplot.show()\n",
    "\n",
    "pyplot.scatter(dp3,trecho3)\n",
    "pyplot.title('Gráfico de Dispersão entre trecho 3 e a posição observada do veículo')\n",
    "pyplot.show()"
   ]
  },
  {
   "cell_type": "code",
   "execution_count": null,
   "metadata": {},
   "outputs": [],
   "source": []
  }
 ],
 "metadata": {
  "colab": {
   "collapsed_sections": [],
   "name": "MAC0209-Ex3.ipynb",
   "provenance": []
  },
  "kernelspec": {
   "display_name": "Python 3",
   "language": "python",
   "name": "python3"
  },
  "language_info": {
   "codemirror_mode": {
    "name": "ipython",
    "version": 3
   },
   "file_extension": ".py",
   "mimetype": "text/x-python",
   "name": "python",
   "nbconvert_exporter": "python",
   "pygments_lexer": "ipython3",
   "version": "3.8.5"
  }
 },
 "nbformat": 4,
 "nbformat_minor": 5
}
